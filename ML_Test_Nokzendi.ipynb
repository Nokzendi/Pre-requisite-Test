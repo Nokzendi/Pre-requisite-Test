{
  "cells": [
    {
      "cell_type": "markdown",
      "id": "29ce7c0b",
      "metadata": {
        "id": "29ce7c0b"
      },
      "source": [
        "# Prerequsite Test\n",
        "### Nokzendi Aier 20110173"
      ]
    },
    {
      "cell_type": "markdown",
      "source": [
        "NOTE: All values of time are in seconds"
      ],
      "metadata": {
        "id": "h9dHikdVOvCu"
      },
      "id": "h9dHikdVOvCu"
    },
    {
      "cell_type": "markdown",
      "id": "9412af9c",
      "metadata": {
        "id": "9412af9c"
      },
      "source": [
        "#### 1.\n",
        "Given two matrices of sizes $(n, k)$ and $(k, m)$\n",
        "<br>\n",
        "<br>\n",
        "The number of multiplications required to multiply can be broken down like so:\n",
        "<br>\n",
        "The first row of the first matrix will be multiplied with the first column of the second matrix. The first element of the row gets multiplied to the first element of the column and so on. This means that there are $k$ total multiplications happening in this step.\\\n",
        "We know that this step will happen for all the $n$ rows from the first matrix to all the $m$ columns of the second matrix i.e., a total of $nm$ times. Therefore, we can say that the total number of multiplications will be $nkm$.\n",
        "<br>\n",
        "<br>\n",
        "The number of additions required to multiply can be broken down like so:\n",
        "<br>\n",
        "We will look at each element of the final matrix, which will be of the size $n*m$. Each element was created by the result of adding all the sub-products formed during the $k$ multiplications we did. Therefore, for each element there are $k-1$ additions we perform. Since there are $nm$ total elements, we can say that the total number of additions will be $n(k-1)m$."
      ]
    },
    {
      "cell_type": "markdown",
      "id": "c4f54d19",
      "metadata": {
        "id": "c4f54d19"
      },
      "source": [
        "#### 2. \n",
        "The python code to multiply the above two matrices are as follows:\n",
        "<br>\n",
        "The first one is using list of list in python.\n",
        "<br>\n",
        "The second one is using numpy."
      ]
    },
    {
      "cell_type": "code",
      "execution_count": null,
      "id": "f4061ddb",
      "metadata": {
        "id": "f4061ddb",
        "outputId": "6b136366-3364-4c96-debc-7090178241d5"
      },
      "outputs": [
        {
          "name": "stdout",
          "output_type": "stream",
          "text": [
            "The average time taken:  0.025557895299999973\n",
            "Standard deviation:  0.003272186051599742\n"
          ]
        }
      ],
      "source": [
        "# Using list of lists\n",
        "\n",
        "import random\n",
        "import timeit\n",
        "import statistics as st\n",
        "SIZE = 1000\n",
        "\n",
        "\n",
        "def matrix_multiplication():\n",
        "\n",
        "    for i in range(n):\n",
        "        temp = []\n",
        "        for j in range(k):\n",
        "            temp.append(random.randint(-2147483648, 2147483647))\n",
        "        A.append(temp)\n",
        "\n",
        "    for i in range(k):\n",
        "        temp = []\n",
        "        for j in range(m):\n",
        "            temp.append(random.randint(-2147483648, 2147483647))\n",
        "        B.append(temp)\n",
        "\n",
        "    start = timeit.default_timer()\n",
        "\n",
        "    for i in range(n):\n",
        "        temp = []\n",
        "        for j in range(m):\n",
        "            value = 0\n",
        "            for l in range(k):\n",
        "                value += A[i][l] * B[l][j]\n",
        "            temp.append(value)\n",
        "        C.append(temp)\n",
        "\n",
        "    stop = timeit.default_timer()\n",
        "    \n",
        "    return stop - start\n",
        "\n",
        "\n",
        "def get_avg():\n",
        "    total = 0\n",
        "    for i in range(SIZE):\n",
        "        total += timetaken[i]\n",
        "    \n",
        "    return total/SIZE\n",
        "    \n",
        "\n",
        "n = 64\n",
        "k = 32\n",
        "m = 64\n",
        "\n",
        "A = []\n",
        "B = []\n",
        "C = []\n",
        "timetaken = []\n",
        "\n",
        "for i in range(SIZE):\n",
        "    time = matrix_multiplication()\n",
        "    timetaken.append(time)\n",
        "\n",
        "avg = get_avg()\n",
        "print(\"The average time taken: \", avg)\n",
        "print(\"Standard deviation: \", st.stdev(timetaken))\n"
      ]
    },
    {
      "cell_type": "code",
      "execution_count": null,
      "id": "650d568f",
      "metadata": {
        "id": "650d568f",
        "outputId": "cbaadc18-6c0d-4254-f799-81f9acd29ebf"
      },
      "outputs": [
        {
          "name": "stdout",
          "output_type": "stream",
          "text": [
            "The average time taken:  0.00015780410000000344\n",
            "Standard deviation:  0.0017951285484607163\n"
          ]
        }
      ],
      "source": [
        "# Using numpy\n",
        "\n",
        "import random\n",
        "import timeit\n",
        "import numpy as np\n",
        "import statistics as st\n",
        "SIZE = 1000\n",
        "\n",
        "\n",
        "def matrix_multiplication():\n",
        "    for i in range(n):\n",
        "        temp = []\n",
        "        for j in range(k):\n",
        "            A[i][j] = random.randint(-2147483648, 2147483647)\n",
        "    \n",
        "    for i in range(k):\n",
        "        temp = []\n",
        "        for j in range(m):\n",
        "            B[i][j] = random.randint(-2147483648, 2147483647)\n",
        "\n",
        "    start = timeit.default_timer()\n",
        "\n",
        "    C = np.dot(A, B)\n",
        "\n",
        "    stop = timeit.default_timer()\n",
        "    \n",
        "    return stop - start\n",
        "\n",
        "\n",
        "def get_avg():\n",
        "    total = 0\n",
        "    for i in range(SIZE):\n",
        "        total += timetaken[i]\n",
        "    \n",
        "    return total/SIZE\n",
        "\n",
        "\n",
        "n = 64\n",
        "k = 32\n",
        "m = 64\n",
        "\n",
        "A = np.zeros(shape = (n, k))\n",
        "B = np.zeros(shape = (k, m))\n",
        "timetaken = []\n",
        "\n",
        "for i in range(SIZE):\n",
        "    time = matrix_multiplication()\n",
        "    timetaken.append(time)\n",
        "\n",
        "avg = get_avg()\n",
        "print(\"The average time taken: \", avg)\n",
        "print(\"Standard deviation: \", st.stdev(timetaken))\n"
      ]
    },
    {
      "cell_type": "markdown",
      "id": "8fb7dd8a",
      "metadata": {
        "id": "8fb7dd8a"
      },
      "source": [
        "After running the above two code multiple times, we can see that numpy out-performs the conventional \"for loops\" version(as per the constraints used in the code). This efficiency is more pronounced with larger and larger values of the dimensions of the matrices. \n",
        "<br>\n",
        "\n",
        "This is because np.dot executes the arithmetic operations and the enclosing loop in compiled code. This performs better than the Python interpretor."
      ]
    },
    {
      "cell_type": "markdown",
      "id": "ac7d5b37",
      "metadata": {
        "id": "ac7d5b37"
      },
      "source": [
        "#### 3.\n",
        "According to the method given in the question, we make one traversal of the array to find the highest element. Finding the second element required 2 passes and so on. Therefore, to find the median: \n",
        "<br>\n",
        "* If n is odd, median is the $ (\\frac{n}{2} + 1)^{th} $ element. Therefore, it requires $ \\frac{n}{2} + 1$ passes.\n",
        "<br>\n",
        "* If n is even, median is the average of the middle two elements, which are the $ (\\frac{n}{2})^{th} $ and $ (\\frac{n}{2} + 1)^{th} $ element. Therefore, it requires $ \\frac{n}{2} + 1$ passes.\n",
        "<br>\n",
        "\n",
        "Since each pass will take $ O(n) $ time, we have a total complexity of $ O(\\frac{n}{2} + 1)*O(n) = O(n^2)$\n",
        "<br>\n",
        "\n",
        "A better method would be to sort the array first and find the median by looking up the middle element. If the sorting is done in $ O(n\\log{n}) $ time, then we only have to look up the middle element which takes $ O(1) $ time. Therefore, the overall time complexity will be $ O(n\\log{n}) $.\n",
        "<br>\n",
        "\n",
        "Both of these functions are implemented below in order. We then compare it against the *numpy.median* routine in terms of time.\n"
      ]
    },
    {
      "cell_type": "code",
      "execution_count": 31,
      "id": "25fc9b0a",
      "metadata": {
        "colab": {
          "base_uri": "https://localhost:8080/"
        },
        "id": "25fc9b0a",
        "outputId": "3482b740-0dc5-464c-a012-06e19ad18e87"
      },
      "outputs": [
        {
          "output_type": "stream",
          "name": "stdout",
          "text": [
            "The average time taken:  0.24545749888400586\n",
            "Standard deviation:  0.025590445358078296\n"
          ]
        }
      ],
      "source": [
        "# Using multiple iterations to get to the median. O(n^2)\n",
        "\n",
        "import timeit\n",
        "import random\n",
        "import statistics as st\n",
        "\n",
        "ITR = 1000\n",
        "SIZE = 2000\n",
        "\n",
        "\n",
        "def find_median():\n",
        "    check = [0]*SIZE\n",
        "    \n",
        "    start = timeit.default_timer()\n",
        "    \n",
        "    for i in range(SIZE//2 + 1):\n",
        "        index = 0\n",
        "        previndex = 0\n",
        "        maxval = -2147483648\n",
        "        for j in range(SIZE):\n",
        "            if(check[j] == 0 and list[j] > maxval):\n",
        "                maxval = list[j]\n",
        "                previndex = index\n",
        "                index = j  \n",
        "        check[index] = 1\n",
        "\n",
        "    if(SIZE%2 == 0):\n",
        "        median = (list[index] + list[previndex]) / 2\n",
        "    else:\n",
        "        median = list[index]\n",
        "    \n",
        "    stop = timeit.default_timer()\n",
        "    \n",
        "    return stop - start\n",
        "                \n",
        "    \n",
        "def get_avg():\n",
        "    total = 0\n",
        "    for i in range(ITR):\n",
        "        total += timetaken[i]\n",
        "    \n",
        "    return total/ITR\n",
        "\n",
        "list = [0]*SIZE\n",
        "timetaken = []\n",
        "\n",
        "for i in range(ITR):\n",
        "    for j in range(SIZE):\n",
        "        list[j] = random.randint(-2147483648, 2147483647)\n",
        "    time = find_median()\n",
        "    timetaken.append(time)\n",
        "\n",
        "avg = get_avg()\n",
        "print(\"The average time taken: \", avg)\n",
        "print(\"Standard deviation: \", st.stdev(timetaken))"
      ]
    },
    {
      "cell_type": "code",
      "execution_count": 32,
      "id": "6e14252b",
      "metadata": {
        "colab": {
          "base_uri": "https://localhost:8080/"
        },
        "id": "6e14252b",
        "outputId": "16c991e8-c007-4dad-93a8-347245eb2671"
      },
      "outputs": [
        {
          "output_type": "stream",
          "name": "stdout",
          "text": [
            "The average time taken:  0.0004149884170083169\n",
            "Standard deviation:  5.751998331168139e-05\n"
          ]
        }
      ],
      "source": [
        "# Using the sorting method. O(nlogn)\n",
        "\n",
        "import timeit\n",
        "import random\n",
        "import statistics as st\n",
        "\n",
        "ITR = 1000\n",
        "SIZE = 2000\n",
        "\n",
        "def find_median():\n",
        "    start = timeit.default_timer()\n",
        "    \n",
        "    list.sort()\n",
        "    if(SIZE%2 == 0):\n",
        "        median = (list[SIZE//2] + list[SIZE//2 + 1]) / 2\n",
        "    else:\n",
        "        median = list[SIZE//2 + 1]\n",
        "    \n",
        "    stop = timeit.default_timer()\n",
        "    \n",
        "    return stop - start\n",
        "\n",
        "\n",
        "def get_avg():\n",
        "    total = 0\n",
        "    for i in range(ITR):\n",
        "        total += timetaken[i]\n",
        "    \n",
        "    return total/ITR\n",
        "\n",
        "list = [0]*SIZE\n",
        "timetaken = []\n",
        "\n",
        "for i in range(ITR):\n",
        "    for j in range(SIZE):\n",
        "        list[j] = random.randint(-2147483648, 2147483647)\n",
        "    time = find_median()\n",
        "    timetaken.append(time)\n",
        "    \n",
        "avg = get_avg()\n",
        "print(\"The average time taken: \", avg)\n",
        "print(\"Standard deviation: \", st.stdev(timetaken))\n"
      ]
    },
    {
      "cell_type": "code",
      "execution_count": 33,
      "id": "2044ece3",
      "metadata": {
        "colab": {
          "base_uri": "https://localhost:8080/"
        },
        "id": "2044ece3",
        "outputId": "f58fc224-cd3b-4cae-e65e-5f139c11833c"
      },
      "outputs": [
        {
          "output_type": "stream",
          "name": "stdout",
          "text": [
            "The average time taken:  0.0003191218379961356\n",
            "Standard deviation:  0.00011848172141898643\n"
          ]
        }
      ],
      "source": [
        "# Using numpy.median\n",
        "\n",
        "import timeit\n",
        "import random\n",
        "import numpy as np\n",
        "import statistics as st\n",
        "\n",
        "ITR = 1000\n",
        "SIZE = 2000\n",
        "\n",
        "def find_median():\n",
        "    start = timeit.default_timer()\n",
        "    \n",
        "    median = np.median(list)\n",
        "    \n",
        "    stop = timeit.default_timer()\n",
        "    \n",
        "    return stop - start\n",
        "\n",
        "\n",
        "def get_avg():\n",
        "    total = 0\n",
        "    for i in range(ITR):\n",
        "        total += timetaken[i]\n",
        "    \n",
        "    return total/ITR\n",
        "\n",
        "list = [0]*SIZE\n",
        "timetaken = []\n",
        "\n",
        "for i in range(ITR):\n",
        "    for j in range(SIZE):\n",
        "        list[j] = random.randint(-2147483648, 2147483647)\n",
        "    time = find_median()\n",
        "    timetaken.append(time)\n",
        "    \n",
        "avg = get_avg()\n",
        "print(\"The average time taken: \", avg)\n",
        "print(\"Standard deviation: \", st.stdev(timetaken))"
      ]
    },
    {
      "cell_type": "markdown",
      "id": "31de063c",
      "metadata": {
        "id": "31de063c"
      },
      "source": [
        "We can see from the results above that the first method is significantly slower than the sorting and the numpy solution. The times for the sorting and the numpy solution are similar. This may be because both underlying methods are the same. However, we do observe that the numpy version is slighty faster. This may be amplified if we take larger values of SIZE."
      ]
    },
    {
      "cell_type": "markdown",
      "id": "68fb870b",
      "metadata": {
        "id": "68fb870b"
      },
      "source": [
        "#### 4.\n",
        "To find the gradient of the function $ f = x^2y + y^3\\sin{x} $ with respect to $x$ and $y$.\n",
        "<br>\n",
        "\n",
        "$ \\frac{df}{dx} = 2xy + y^3\\cos{x} $\n",
        "<br>\n",
        "\n",
        "$ \\frac{df}{dy} = x^2 + 3y^2\\sin{x} $\n",
        "<br>\n",
        "\n",
        "Therefore, the gradient of $f$ is ($ 2xy + y^3\\cos{x} $, $ x^2 + 3y^2\\sin{x} $)"
      ]
    },
    {
      "cell_type": "markdown",
      "source": [
        "#### 5."
      ],
      "metadata": {
        "id": "BrQJd4q1ensL"
      },
      "id": "BrQJd4q1ensL"
    },
    {
      "cell_type": "code",
      "source": [
        "import jax.numpy as np\n",
        "from jax import grad\n",
        "import random\n",
        "\n",
        "\n",
        "def f(x, y):\n",
        "  return x**2 * y + y**3 * np.sin(x)\n",
        "\n",
        "\n",
        "gradient = grad(f, argnums=(0, 1))\n",
        "\n",
        "\n",
        "A = np.zeros(3, dtype = float)\n",
        "B = np.zeros(3, dtype = float)\n",
        "\n",
        "for i in range (3):\n",
        "  # A[i] = random.uniform(0, 10000)\n",
        "  # B[i] = random.uniform(0, 10000) // This type of assignment does not work because it's immutable\n",
        "  A = A.at[i].set(random.uniform(0, 10000))\n",
        "  B = B.at[i].set(random.uniform(0, 10000))\n",
        "\n",
        "\n",
        "for i in range (3):\n",
        "  analytical_gradient = [2*A[i]*B[i] + (B[i]**3)*np.cos(A[i]), A[i]**2 + 3*B[i]**2*np.sin(A[i])]\n",
        "  numerical_gradient = gradient(A[i], B[i])\n",
        "  print(f\"\\nGradients for x = {A[i]} and y = {B[i]}\")\n",
        "  print(\"(\", analytical_gradient[0], \",\", analytical_gradient[1], \")\")\n",
        "  print(\"(\", numerical_gradient[0], \",\", numerical_gradient[1], \")\")\n"
      ],
      "metadata": {
        "colab": {
          "base_uri": "https://localhost:8080/"
        },
        "id": "m7w_FOqXenEm",
        "outputId": "1ff5eebe-6f21-4e95-c811-9a5e63c1f4b5"
      },
      "id": "m7w_FOqXenEm",
      "execution_count": 36,
      "outputs": [
        {
          "output_type": "stream",
          "name": "stdout",
          "text": [
            "\n",
            "Gradients for x = 5333.36962890625 and y = 5821.4228515625\n",
            "( 97419060000.0 , -59980016.0 )\n",
            "( 97419060000.0 , -59980016.0 )\n",
            "\n",
            "Gradients for x = 7265.5498046875 and y = 6533.98388671875\n",
            "( -161258850000.0 , 157266910.0 )\n",
            "( -161258850000.0 , 157266910.0 )\n",
            "\n",
            "Gradients for x = 2565.053466796875 and y = 2396.481201171875\n",
            "( 795481540.0 , 23780948.0 )\n",
            "( 795481540.0 , 23780948.0 )\n"
          ]
        }
      ]
    },
    {
      "cell_type": "markdown",
      "source": [
        "#### 6."
      ],
      "metadata": {
        "id": "YQHQYukaozXR"
      },
      "id": "YQHQYukaozXR"
    },
    {
      "cell_type": "code",
      "source": [
        "import sympy\n",
        "\n",
        "x, y = sympy.symbols('x y')\n",
        "\n",
        "f = x**2 * y + y**3 * sympy.sin(x)\n",
        "\n",
        "dx = sympy.diff(f, x)\n",
        "dy = sympy.diff(f, y)\n",
        "\n",
        "print(f\"Gradient with respect to x: {dx}\")\n",
        "print(f\"Gradient with respect to y: {dy}\")\n"
      ],
      "metadata": {
        "colab": {
          "base_uri": "https://localhost:8080/"
        },
        "id": "OULK_tNUqnif",
        "outputId": "a923d17b-4d01-48b7-9d86-9b1594b25ccc"
      },
      "id": "OULK_tNUqnif",
      "execution_count": 34,
      "outputs": [
        {
          "output_type": "stream",
          "name": "stdout",
          "text": [
            "Gradient with respect to x: 2*x*y + y**3*cos(x)\n",
            "Gradient with respect to y: x**2 + 3*y**2*sin(x)\n"
          ]
        }
      ]
    },
    {
      "cell_type": "markdown",
      "source": [
        "#### 7."
      ],
      "metadata": {
        "id": "Toh5M3-xrHrU"
      },
      "id": "Toh5M3-xrHrU"
    },
    {
      "cell_type": "code",
      "source": [
        "myDict = {2022: {\"Branch 1\": {1: {\"Roll number\": 1, \"Name\": \"N\", \"Marks\": {\"Maths\": 100, \"English\": 70}}},\n",
        "                 \"Branch 2\": {1: {\"Roll number\": 12, \"Name\": \"M\", \"Marks\": {\"Maths\": 100, \"English\": 40}},\n",
        "                              2: {\"Roll number\": 30, \"Name\": \"O\", \"Marks\": {\"Maths\": 90, \"English\": 80}}}},\n",
        "          2023: {\"Branch 1\": {1: {}},\n",
        "                 \"Branch 2\": {1: {}}},\n",
        "          2024: {\"Branch 1\": {1: {}},\n",
        "                 \"Branch 2\": {1: {}}},\n",
        "          2025: {\"Branch 1\": {1: {}},\n",
        "                 \"Branch 2\": {1: {}}}\n",
        "          }\n",
        "        \n",
        "print(myDict)"
      ],
      "metadata": {
        "colab": {
          "base_uri": "https://localhost:8080/"
        },
        "id": "EV5ITUJks6A3",
        "outputId": "36c8815e-7bcc-4114-8d31-460b3e7307ae"
      },
      "id": "EV5ITUJks6A3",
      "execution_count": 11,
      "outputs": [
        {
          "output_type": "stream",
          "name": "stdout",
          "text": [
            "{2022: {'Branch 1': {1: {'Roll number': 1, 'Name': 'N', 'Marks': {'Maths': 100, 'English': 70}}}, 'Branch 2': {1: {'Roll number': 12, 'Name': 'M', 'Marks': {'Maths': 100, 'English': 40}}, 2: {'Roll number': 30, 'Name': 'O', 'Marks': {'Maths': 90, 'English': 80}}}}, 2023: {'Branch 1': {1: {}}, 'Branch 2': {1: {}}}, 2024: {'Branch 1': {1: {}}, 'Branch 2': {1: {}}}, 2025: {'Branch 1': {1: {}}, 'Branch 2': {1: {}}}}\n"
          ]
        }
      ]
    },
    {
      "cell_type": "markdown",
      "source": [
        "#### 8."
      ],
      "metadata": {
        "id": "UbmYgyt7rKJi"
      },
      "id": "UbmYgyt7rKJi"
    },
    {
      "cell_type": "code",
      "source": [
        "class Year:\n",
        "    def __init__(self, year, branches):\n",
        "        self.year = year\n",
        "        self.branches = branches\n",
        "\n",
        "class Branch:\n",
        "    def __init__(self, name, students):\n",
        "        self.branch_name = name\n",
        "        self.students = students\n",
        "\n",
        "class Student:\n",
        "    def __init__(self, roll, name, marks):\n",
        "        self.rollnum = roll\n",
        "        self.name = name\n",
        "        self.marks = marks\n",
        "\n",
        "Database = [\n",
        "    Year(2022, [\n",
        "        Branch('Branch 1', [Student(1, 'Nokzendi', {'Maths': 100, 'English': 70})]),\n",
        "        Branch('Branch 2', [Student(12, 'M', {'Maths': 100, 'English': 40}), Student(30, 'O', {'Maths': 90, 'English': 80})])\n",
        "    ]),\n",
        "\n",
        "    Year(2023, [\n",
        "        Branch('Branch 1', []),\n",
        "        Branch('Branch 2', [])\n",
        "    ]),\n",
        "    \n",
        "    Year(2024, [\n",
        "        Branch('Branch 1', []),\n",
        "        Branch('Branch 2', [])\n",
        "    ]),\n",
        "    Year(2025, [\n",
        "        Branch('Branch 1', []),\n",
        "        Branch('Branch 2', [])\n",
        "    ]),\n",
        "]\n",
        "\n",
        "print(\"The first value of our database is: \")\n",
        "print(\"Year:\", Database[0].year)\n",
        "print(\"Branch:\", Database[0].branches[0].branch_name)\n",
        "print(\"Student roll number:\", Database[0].branches[0].students[0].rollnum)\n",
        "print(\"Student name:\", Database[0].branches[0].students[0].name)\n",
        "print(\"Student marks:\", Database[0].branches[0].students[0].marks)\n"
      ],
      "metadata": {
        "colab": {
          "base_uri": "https://localhost:8080/"
        },
        "id": "kER8PBsF7QvO",
        "outputId": "3cacfbf5-94e1-4215-9d9e-fbda9ceff8ad"
      },
      "id": "kER8PBsF7QvO",
      "execution_count": 27,
      "outputs": [
        {
          "output_type": "stream",
          "name": "stdout",
          "text": [
            "The first value of our database is: \n",
            "Year: 2022\n",
            "Branch: Branch 1\n",
            "Student roll number: 1\n",
            "Student name: Nokzendi\n",
            "Student marks: {'Maths': 100, 'English': 70}\n"
          ]
        }
      ]
    },
    {
      "cell_type": "markdown",
      "id": "20558d49",
      "metadata": {
        "id": "20558d49"
      },
      "source": [
        "#### 9.\n",
        "The code are as follows:"
      ]
    },
    {
      "cell_type": "code",
      "execution_count": null,
      "id": "758634bb",
      "metadata": {
        "id": "758634bb",
        "outputId": "ea4718a0-2a41-4844-890d-de8d4e5b2b98"
      },
      "outputs": [
        {
          "data": {
            "text/plain": [
              "Text(0.5, 1.0, 'y = x')"
            ]
          },
          "execution_count": 27,
          "metadata": {},
          "output_type": "execute_result"
        },
        {
          "data": {
            "image/png": "[encoded data removed]",
            "text/plain": [
              "<Figure size 432x288 with 1 Axes>"
            ]
          },
          "metadata": {
            "needs_background": "light"
          },
          "output_type": "display_data"
        }
      ],
      "source": [
        "# y = x\n",
        "\n",
        "import matplotlib.pyplot as plt\n",
        "import numpy as np\n",
        "\n",
        "def f(x):\n",
        "    return x\n",
        "\n",
        "x = np.arange(0.5, 100.0, 0.5)\n",
        "y = f(x)\n",
        "\n",
        "plt.plot(x, y)\n",
        "plt.xlabel('x')\n",
        "plt.ylabel('y')\n",
        "plt.title('y = x')\n"
      ]
    },
    {
      "cell_type": "code",
      "execution_count": null,
      "id": "9dab2d9a",
      "metadata": {
        "id": "9dab2d9a",
        "outputId": "67ef4875-5c4c-4982-aca8-f74d9906d8d8"
      },
      "outputs": [
        {
          "data": {
            "text/plain": [
              "Text(0.5, 1.0, 'y = x^2')"
            ]
          },
          "execution_count": 28,
          "metadata": {},
          "output_type": "execute_result"
        },
        {
          "data": {
            "image/png": "[encoded data removed]",
            "text/plain": [
              "<Figure size 432x288 with 1 Axes>"
            ]
          },
          "metadata": {
            "needs_background": "light"
          },
          "output_type": "display_data"
        }
      ],
      "source": [
        "# y = x^2\n",
        "\n",
        "import matplotlib.pyplot as plt\n",
        "import numpy as np\n",
        "\n",
        "def f(x):\n",
        "    return x**2\n",
        "\n",
        "x = np.arange(0.5, 100.0, 0.5)\n",
        "y = f(x)\n",
        "\n",
        "plt.plot(x, y)\n",
        "plt.xlabel('x')\n",
        "plt.ylabel('y')\n",
        "plt.title('y = x^2')\n"
      ]
    },
    {
      "cell_type": "code",
      "execution_count": null,
      "id": "f98f0413",
      "metadata": {
        "id": "f98f0413",
        "outputId": "076894ad-b68d-41bd-8c5c-19b05e6bc97c"
      },
      "outputs": [
        {
          "data": {
            "text/plain": [
              "Text(0.5, 1.0, 'y = x^3 / 100')"
            ]
          },
          "execution_count": 29,
          "metadata": {},
          "output_type": "execute_result"
        },
        {
          "data": {
            "image/png": "[encoded data removed]",
            "text/plain": [
              "<Figure size 432x288 with 1 Axes>"
            ]
          },
          "metadata": {
            "needs_background": "light"
          },
          "output_type": "display_data"
        }
      ],
      "source": [
        "# y = x^3 / 100\n",
        "\n",
        "import matplotlib.pyplot as plt\n",
        "import numpy as np\n",
        "\n",
        "def f(x):\n",
        "    return x**3 / 100\n",
        "\n",
        "x = np.arange(0.5, 100.0, 0.5)\n",
        "y = f(x)\n",
        "\n",
        "plt.plot(x, y)\n",
        "plt.xlabel('x')\n",
        "plt.ylabel('y')\n",
        "plt.title('y = x^3 / 100')\n"
      ]
    },
    {
      "cell_type": "code",
      "execution_count": null,
      "id": "a927feec",
      "metadata": {
        "id": "a927feec",
        "outputId": "50783ef3-09e5-4295-a836-b363318fc3fa"
      },
      "outputs": [
        {
          "data": {
            "text/plain": [
              "Text(0.5, 1.0, 'y = sin(x)')"
            ]
          },
          "execution_count": 39,
          "metadata": {},
          "output_type": "execute_result"
        },
        {
          "data": {
            "image/png": "[encoded data removed]",
            "text/plain": [
              "<Figure size 432x288 with 1 Axes>"
            ]
          },
          "metadata": {
            "needs_background": "light"
          },
          "output_type": "display_data"
        }
      ],
      "source": [
        "# y = sin(x)\n",
        "\n",
        "import matplotlib.pyplot as plt\n",
        "import numpy as np\n",
        "import math\n",
        "\n",
        "x = np.linspace(0.5, 100.0, 200)\n",
        "y = np.sin(x)\n",
        "\n",
        "plt.plot(x, y)\n",
        "plt.xlabel('x')\n",
        "plt.ylabel('y')\n",
        "plt.title('y = sin(x)')\n"
      ]
    },
    {
      "cell_type": "code",
      "execution_count": null,
      "id": "d6d6d286",
      "metadata": {
        "id": "d6d6d286",
        "outputId": "9bbf3c1d-a44b-465b-cb6e-5cbe7f299edc"
      },
      "outputs": [
        {
          "data": {
            "text/plain": [
              "Text(0.5, 1.0, 'y = sin(x) / x')"
            ]
          },
          "execution_count": 44,
          "metadata": {},
          "output_type": "execute_result"
        },
        {
          "data": {
            "image/png": "[encoded data removed]",
            "text/plain": [
              "<Figure size 432x288 with 1 Axes>"
            ]
          },
          "metadata": {
            "needs_background": "light"
          },
          "output_type": "display_data"
        }
      ],
      "source": [
        "# y = sin(x) / x\n",
        "\n",
        "import matplotlib.pyplot as plt\n",
        "import numpy as np\n",
        "import math\n",
        "\n",
        "x = np.linspace(0.5, 100.0, 200)\n",
        "y = np.sin(x)/x\n",
        "\n",
        "plt.plot(x, y)\n",
        "plt.xlabel('x')\n",
        "plt.ylabel('y')\n",
        "plt.title('y = sin(x) / x')"
      ]
    },
    {
      "cell_type": "code",
      "execution_count": null,
      "id": "9fd14aae",
      "metadata": {
        "id": "9fd14aae",
        "outputId": "438e1945-34e0-42fa-996d-23b8a013099c"
      },
      "outputs": [
        {
          "data": {
            "text/plain": [
              "Text(0.5, 1.0, 'y = log(x)')"
            ]
          },
          "execution_count": 45,
          "metadata": {},
          "output_type": "execute_result"
        },
        {
          "data": {
            "image/png": "[encoded data removed]",
            "text/plain": [
              "<Figure size 432x288 with 1 Axes>"
            ]
          },
          "metadata": {
            "needs_background": "light"
          },
          "output_type": "display_data"
        }
      ],
      "source": [
        "# y = log(x)\n",
        "\n",
        "import matplotlib.pyplot as plt\n",
        "import numpy as np\n",
        "import math\n",
        "\n",
        "x = np.linspace(0.5, 100.0, 200)\n",
        "y = np.log(x)\n",
        "\n",
        "plt.plot(x, y)\n",
        "plt.xlabel('x')\n",
        "plt.ylabel('y')\n",
        "plt.title('y = log(x)')"
      ]
    },
    {
      "cell_type": "code",
      "execution_count": null,
      "id": "a33ed41b",
      "metadata": {
        "id": "a33ed41b",
        "outputId": "707e4aa3-dd01-4c36-d957-cad5ed1faaaf"
      },
      "outputs": [
        {
          "data": {
            "text/plain": [
              "Text(0.5, 1.0, 'y = exp(x)')"
            ]
          },
          "execution_count": 48,
          "metadata": {},
          "output_type": "execute_result"
        },
        {
          "data": {
            "image/png": "[encoded data removed]",
            "text/plain": [
              "<Figure size 432x288 with 1 Axes>"
            ]
          },
          "metadata": {
            "needs_background": "light"
          },
          "output_type": "display_data"
        }
      ],
      "source": [
        "# y = exp(x)\n",
        "\n",
        "import matplotlib.pyplot as plt\n",
        "import numpy as np\n",
        "import math\n",
        "\n",
        "x = np.linspace(0.5, 100.0, 200)\n",
        "y = np.exp(x)\n",
        "\n",
        "plt.plot(x, y)\n",
        "plt.xlabel('x')\n",
        "plt.ylabel('y')\n",
        "plt.title('y = exp(x)')"
      ]
    },
    {
      "cell_type": "markdown",
      "id": "db76c28b",
      "metadata": {
        "id": "db76c28b"
      },
      "source": [
        "#### 10. "
      ]
    },
    {
      "cell_type": "code",
      "execution_count": 39,
      "id": "8dc42365",
      "metadata": {
        "colab": {
          "base_uri": "https://localhost:8080/"
        },
        "id": "8dc42365",
        "outputId": "0f78fec3-a3d6-4057-f527-99aef4ca5bb9"
      },
      "outputs": [
        {
          "output_type": "stream",
          "name": "stdout",
          "text": [
            "The dataframe is:\n",
            "           a         b         c         d         e\n",
            "0   1.143696  1.979212  1.537172  1.571889  1.373894\n",
            "1   1.407062  1.815223  1.848596  1.938076  1.302681\n",
            "2   1.830190  1.933691  1.124523  1.562906  1.384061\n",
            "3   1.764158  1.027217  1.013480  1.406140  1.022186\n",
            "4   1.902734  1.226944  1.482754  1.986118  1.578234\n",
            "5   1.629456  1.624720  1.953825  1.801493  1.721898\n",
            "6   1.119602  1.749639  1.221053  1.690607  1.986111\n",
            "7   1.118214  1.798860  1.880318  1.645467  1.148285\n",
            "8   1.994253  1.656100  1.037811  1.321637  1.952759\n",
            "9   1.312621  1.874861  1.547396  1.616193  1.225654\n",
            "10  1.761924  1.121608  1.736918  1.323850  1.643350\n",
            "11  1.005292  1.319932  1.219974  1.146360  1.638120\n",
            "12  1.607550  1.873736  1.649683  1.266856  1.960378\n",
            "13  1.869900  1.547055  1.491406  1.894942  1.292767\n",
            "14  1.658224  1.036300  1.716869  1.916050  1.588607\n",
            "15  1.242325  1.942252  1.719676  1.135251  1.765740\n",
            "16  1.960551  1.921701  1.427714  1.016543  1.432871\n",
            "17  1.049610  1.474011  1.857590  1.817340  1.673041\n",
            "18  1.322715  1.679702  1.807476  1.183645  1.310167\n",
            "19  1.157342  1.225598  1.315797  1.530014  1.926556\n",
            "\n",
            "Column with the highest standard deviation: a\n",
            "\n",
            "Row with the lowest mean: 3\n"
          ]
        }
      ],
      "source": [
        "import numpy as np\n",
        "import pandas as pd\n",
        "\n",
        "# Generating a 20x5 matrix of random numbers\n",
        "matrix = np.random.uniform(1, 2, size=(20, 5))\n",
        "\n",
        "# Creating a dataframe from the matrix\n",
        "dataframe = pd.DataFrame(matrix, columns=['a', 'b', 'c', 'd', 'e'])\n",
        "\n",
        "# Finding the column with the highest standard deviation\n",
        "col = dataframe.std().idxmax()\n",
        "\n",
        "# Finding the row with the lowest mean\n",
        "row = dataframe.mean(axis=1).idxmin()\n",
        "\n",
        "print(\"The dataframe is:\")\n",
        "print(dataframe)\n",
        "print(\"\\nColumn with the highest standard deviation:\", col)\n",
        "print(\"\\nRow with the lowest mean:\", row)\n"
      ]
    },
    {
      "cell_type": "markdown",
      "id": "a0e4c04d",
      "metadata": {
        "id": "a0e4c04d"
      },
      "source": [
        "#### 11."
      ]
    },
    {
      "cell_type": "code",
      "execution_count": 38,
      "id": "d45e78ef",
      "metadata": {
        "colab": {
          "base_uri": "https://localhost:8080/"
        },
        "id": "d45e78ef",
        "outputId": "56279403-cf40-47b8-e9ae-bff6a027feaa"
      },
      "outputs": [
        {
          "output_type": "stream",
          "name": "stdout",
          "text": [
            "The dataframe is:\n",
            "           a         b         c         d         e\n",
            "0   1.043739  1.184762  1.012751  1.702051  1.122068\n",
            "1   1.371427  1.620260  1.129581  1.244759  1.621626\n",
            "2   1.251910  1.666433  1.238958  1.054436  1.457066\n",
            "3   1.158498  1.788444  1.473461  1.194132  1.493196\n",
            "4   1.435244  1.958468  1.778436  1.528608  1.908910\n",
            "5   1.338584  1.999706  1.171521  1.337466  1.374481\n",
            "6   1.482438  1.060321  1.343065  1.130668  1.125026\n",
            "7   1.479368  1.687290  1.042824  1.904725  1.084779\n",
            "8   1.734064  1.130681  1.066576  1.471276  1.797958\n",
            "9   1.499369  1.844373  1.988567  1.535713  1.201147\n",
            "10  1.540177  1.863104  1.943640  1.002627  1.111615\n",
            "11  1.136782  1.500009  1.117794  1.534879  1.281573\n",
            "12  1.772615  1.496088  1.702369  1.233923  1.829047\n",
            "13  1.101101  1.462322  1.205558  1.385867  1.351139\n",
            "14  1.199406  1.944444  1.574281  1.468543  1.634279\n",
            "15  1.470561  1.901794  1.103569  1.262993  1.943434\n",
            "16  1.483024  1.700500  1.219078  1.014292  1.930598\n",
            "17  1.481641  1.522001  1.068931  1.657604  1.294198\n",
            "18  1.282372  1.413221  1.614437  1.541972  1.757465\n",
            "19  1.250964  1.169614  1.214497  1.467687  1.021659\n",
            "\n",
            "The new dataframe is:\n",
            "           a         b         c         d         e         f    g\n",
            "0   1.043739  1.184762  1.012751  1.702051  1.122068  6.065371  LT8\n",
            "1   1.371427  1.620260  1.129581  1.244759  1.621626  6.987653  LT8\n",
            "2   1.251910  1.666433  1.238958  1.054436  1.457066  6.668803  LT8\n",
            "3   1.158498  1.788444  1.473461  1.194132  1.493196  7.107732  LT8\n",
            "4   1.435244  1.958468  1.778436  1.528608  1.908910  8.609666  LT8\n",
            "5   1.338584  1.999706  1.171521  1.337466  1.374481  7.221757  LT8\n",
            "6   1.482438  1.060321  1.343065  1.130668  1.125026  6.141517  LT8\n",
            "7   1.479368  1.687290  1.042824  1.904725  1.084779  7.198987  LT8\n",
            "8   1.734064  1.130681  1.066576  1.471276  1.797958  7.200555  LT8\n",
            "9   1.499369  1.844373  1.988567  1.535713  1.201147  8.069168  LT8\n",
            "10  1.540177  1.863104  1.943640  1.002627  1.111615  7.461163  LT8\n",
            "11  1.136782  1.500009  1.117794  1.534879  1.281573  6.571036  LT8\n",
            "12  1.772615  1.496088  1.702369  1.233923  1.829047  8.034042  LT8\n",
            "13  1.101101  1.462322  1.205558  1.385867  1.351139  6.505988  GT8\n",
            "14  1.199406  1.944444  1.574281  1.468543  1.634279  7.820953  LT8\n",
            "15  1.470561  1.901794  1.103569  1.262993  1.943434  7.682351  LT8\n",
            "16  1.483024  1.700500  1.219078  1.014292  1.930598  7.347492  GT8\n",
            "17  1.481641  1.522001  1.068931  1.657604  1.294198  7.024376  LT8\n",
            "18  1.282372  1.413221  1.614437  1.541972  1.757465  7.609467  LT8\n",
            "19  1.250964  1.169614  1.214497  1.467687  1.021659  6.124421  LT8\n",
            "\n",
            "Number of rows where the value in the column \"g\" is \"LT8\":  18\n",
            "\n",
            "Standard deviation of the column \"f\" for rows where the value in the column \"g\" is \"LT8\":  0.7120673235753895\n",
            "\n",
            "Standard deviation of the column \"f\" for rows where the value in the column \"g\" is \"GT8\":  0.5950336401249683\n"
          ]
        }
      ],
      "source": [
        "import numpy as np\n",
        "import pandas as pd\n",
        "\n",
        "# Generating a matrix of random numbers\n",
        "matrix = np.random.uniform(1, 2, size=(20, 5))\n",
        "\n",
        "# Creating a dataframe from the matrix\n",
        "dataframe = pd.DataFrame(matrix, columns=['a', 'b', 'c', 'd', 'e'])\n",
        "\n",
        "print(\"The dataframe is:\")\n",
        "print(dataframe)\n",
        "\n",
        "# Adding a new column 'f' as the sum of the existing columns 'a', 'b', 'c', 'd', 'e'\n",
        "dataframe['f'] = dataframe['a'] + dataframe['b'] + dataframe['c'] + dataframe['d'] + dataframe['e']\n",
        "\n",
        "# Creating a new column 'g' with values 'LT8' or 'GT8' depending on the value in column 'f'\n",
        "dataframe = dataframe.assign(g=np.where(df['f'] < 8, 'LT8', 'GT8'))\n",
        "\n",
        "print(\"\\nThe new dataframe is:\")\n",
        "print(dataframe)\n",
        "\n",
        "# Finding the number of rows in the dataframe where the value in 'g' is 'LT8'\n",
        "lt8_count = dataframe.loc[dataframe['g'] == 'LT8', 'g'].count()\n",
        "print('\\nNumber of rows where the value in the column \"g\" is \"LT8\": ', lt8_count)\n",
        "\n",
        "# Finding the standard deviation of column 'f' for the rows where the value in the column 'g' is 'LT8'\n",
        "lt8_std = dataframe.loc[dataframe['g'] == 'LT8', 'f'].std() \n",
        "print('\\nStandard deviation of the column \"f\" for rows where the value in the column \"g\" is \"LT8\": ', lt8_std)\n",
        "\n",
        "# Finding the standard deviation of column 'f' for the rows where the value in the column 'g' is 'GT8'\n",
        "gt8_std = dataframe.loc[dataframe['g'] == 'GT8', 'f'].std()\n",
        "print('\\nStandard deviation of the column \"f\" for rows where the value in the column \"g\" is \"GT8\": ', gt8_std)"
      ]
    },
    {
      "cell_type": "markdown",
      "id": "9ee7df5b",
      "metadata": {
        "id": "9ee7df5b"
      },
      "source": [
        "#### 12.\n",
        "Broadcasting describes how NumPy treats arrays with different shaped during arithmetic operations. The smaller array is broadcast into the shape of the larger array if it satisfies some constraints. These constraints are given in detail in the NumPy website and documentation. This is done efficienty by NumPy as it does not create copies of the smaller array to fit the size of the larger array, instead it knows to reuse the same smaller array."
      ]
    },
    {
      "cell_type": "code",
      "execution_count": null,
      "id": "31529999",
      "metadata": {
        "id": "31529999",
        "outputId": "6527cce7-56b4-43dc-883b-a5f3aa59a5f3"
      },
      "outputs": [
        {
          "name": "stdout",
          "output_type": "stream",
          "text": [
            "[[12 10  8]\n",
            " [ 9  7  5]]\n"
          ]
        }
      ],
      "source": [
        "import numpy as np\n",
        "\n",
        "A = np.array([[9, 8, 7], [6, 5, 4]])\n",
        "B = np.array([[3, 2, 1]])\n",
        "\n",
        "res = A + B\n",
        "print(res)\n"
      ]
    },
    {
      "cell_type": "markdown",
      "id": "cc576df5",
      "metadata": {
        "id": "cc576df5"
      },
      "source": [
        "#### 13."
      ]
    },
    {
      "cell_type": "code",
      "execution_count": null,
      "id": "ec292fb7",
      "metadata": {
        "id": "ec292fb7",
        "outputId": "29b21e9e-8f97-498e-d5bf-685001355b29"
      },
      "outputs": [
        {
          "name": "stdout",
          "output_type": "stream",
          "text": [
            "The argmin from our function is: 49\n",
            "The argmin from np.argmin is: 49\n"
          ]
        }
      ],
      "source": [
        "import numpy as np\n",
        "SIZE = 100\n",
        "INT_MAX = 2147483647\n",
        "\n",
        "def argmin():\n",
        "    index = 0\n",
        "    minval = INT_MAX\n",
        "    for i in range(SIZE):\n",
        "        if(A[i] < minval):\n",
        "            minval = A[i]\n",
        "            index = i\n",
        "    return index\n",
        "\n",
        "\n",
        "A = np.random.randint(INT_MAX, size = SIZE)\n",
        "ans1 = argmin()\n",
        "ans2 = np.argmin(A)\n",
        "\n",
        "print(\"The argmin from our function is:\", ans1)\n",
        "print(\"The argmin from np.argmin is:\", ans2)\n"
      ]
    },
    {
      "cell_type": "markdown",
      "id": "35b02307",
      "metadata": {
        "id": "35b02307"
      },
      "source": [
        "We can see that both the answers are the same"
      ]
    },
    {
      "cell_type": "code",
      "execution_count": null,
      "id": "604e4320",
      "metadata": {
        "id": "604e4320"
      },
      "outputs": [],
      "source": []
    }
  ],
  "metadata": {
    "kernelspec": {
      "display_name": "Python 3 (ipykernel)",
      "language": "python",
      "name": "python3"
    },
    "language_info": {
      "codemirror_mode": {
        "name": "ipython",
        "version": 3
      },
      "file_extension": ".py",
      "mimetype": "text/x-python",
      "name": "python",
      "nbconvert_exporter": "python",
      "pygments_lexer": "ipython3",
      "version": "3.9.12"
    },
    "colab": {
      "provenance": [],
      "collapsed_sections": [
        "c4f54d19",
        "ac7d5b37",
        "BrQJd4q1ensL",
        "YQHQYukaozXR",
        "Toh5M3-xrHrU",
        "UbmYgyt7rKJi",
        "20558d49",
        "db76c28b",
        "a0e4c04d",
        "9ee7df5b",
        "cc576df5"
      ]
    }
  },
  "nbformat": 4,
  "nbformat_minor": 5
}